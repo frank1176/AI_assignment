{
 "cells": [
  {
   "cell_type": "code",
   "execution_count": null,
   "id": "22216a61",
   "metadata": {},
   "outputs": [],
   "source": [
    "import pandas as pd\n",
    "import numpy as np\n",
    "import warnings\n",
    "warnings.filterwarnings('ignore')"
   ]
  },
  {
   "cell_type": "code",
   "execution_count": null,
   "id": "340b07a6",
   "metadata": {
    "scrolled": false
   },
   "outputs": [],
   "source": [
    "books = pd.read_csv('books.csv', low_memory=False)\n",
    "books.head()"
   ]
  },
  {
   "cell_type": "code",
   "execution_count": null,
   "id": "5bbc4cdb",
   "metadata": {},
   "outputs": [],
   "source": [
    "ratings = pd.read_csv('ratings.csv', low_memory=False)\n",
    "ratings.head()"
   ]
  },
  {
   "cell_type": "code",
   "execution_count": null,
   "id": "08ef37b5",
   "metadata": {
    "scrolled": true
   },
   "outputs": [],
   "source": [
    "tags = pd.read_csv('tags.csv', low_memory=False)\n",
    "tags.head()"
   ]
  },
  {
   "cell_type": "code",
   "execution_count": null,
   "id": "745a8b98",
   "metadata": {},
   "outputs": [],
   "source": [
    "book_tags = pd.read_csv('book_tags.csv', low_memory=False)\n",
    "book_tags.head()"
   ]
  },
  {
   "cell_type": "code",
   "execution_count": null,
   "id": "bdc2b3fd",
   "metadata": {},
   "outputs": [],
   "source": [
    "to_read = pd.read_csv('to_read.csv', low_memory=False)\n",
    "to_read.head()"
   ]
  },
  {
   "cell_type": "code",
   "execution_count": null,
   "id": "dcb06222",
   "metadata": {},
   "outputs": [],
   "source": [
    "books.columns"
   ]
  },
  {
   "cell_type": "code",
   "execution_count": null,
   "id": "ab1e81f8",
   "metadata": {},
   "outputs": [],
   "source": [
    "ratings.columns"
   ]
  },
  {
   "cell_type": "code",
   "execution_count": null,
   "id": "4d263a4d",
   "metadata": {},
   "outputs": [],
   "source": [
    "tags.columns"
   ]
  },
  {
   "cell_type": "code",
   "execution_count": null,
   "id": "a98fb613",
   "metadata": {},
   "outputs": [],
   "source": [
    "book_tags.columns"
   ]
  },
  {
   "cell_type": "code",
   "execution_count": null,
   "id": "00cd6c56",
   "metadata": {},
   "outputs": [],
   "source": [
    "to_read.columns"
   ]
  },
  {
   "cell_type": "markdown",
   "id": "25e5f4b6",
   "metadata": {},
   "source": [
    "# Clean data set"
   ]
  },
  {
   "cell_type": "markdown",
   "id": "213532da",
   "metadata": {},
   "source": [
    "Remove Null value, drop the image_url,small_image_url columns"
   ]
  },
  {
   "cell_type": "code",
   "execution_count": null,
   "id": "e0c18b56",
   "metadata": {},
   "outputs": [],
   "source": [
    "books = books.dropna()\n",
    "books = books.drop(columns=['image_url', 'small_image_url'])"
   ]
  },
  {
   "cell_type": "code",
   "execution_count": null,
   "id": "efbc463a",
   "metadata": {},
   "outputs": [],
   "source": [
    "books.shape"
   ]
  },
  {
   "cell_type": "code",
   "execution_count": null,
   "id": "ee0634b5",
   "metadata": {},
   "outputs": [],
   "source": [
    "#used to replace any missing or NaN values in the 'original_publication_year' column \n",
    "books['original_publication_year'] = books['original_publication_year'].fillna(-1).apply(lambda x: int(x) if x != -1 else -1)"
   ]
  },
  {
   "cell_type": "code",
   "execution_count": null,
   "id": "e95a3321",
   "metadata": {},
   "outputs": [],
   "source": [
    "#removes any duplicate rows from the ratings\n",
    "ratings_rmv_duplicates = ratings.drop_duplicates()\n",
    "#counts the number of rows in each group.\n",
    "unwanted_users = ratings_rmv_duplicates.groupby('user_id')['user_id'].count()\n",
    "#keeping only the users with a count of ratings less than 3.\n",
    "unwanted_users = unwanted_users[unwanted_users < 3]\n",
    "#keeping only the rows where the 'user_id' is an unwanted user\n",
    "unwanted_ratings = ratings_rmv_duplicates[ratings_rmv_duplicates.user_id.isin(unwanted_users.index)]\n",
    "#which has both duplicates and unwanted users removed, is assigned to a variable called new_ratings.\n",
    "new_ratings = ratings_rmv_duplicates.drop(unwanted_ratings.index)"
   ]
  },
  {
   "cell_type": "code",
   "execution_count": null,
   "id": "0a5494be",
   "metadata": {},
   "outputs": [],
   "source": [
    "new_ratings.shape"
   ]
  },
  {
   "cell_type": "code",
   "execution_count": null,
   "id": "103e3a16",
   "metadata": {},
   "outputs": [],
   "source": [
    "new_ratings.head(10)"
   ]
  },
  {
   "cell_type": "code",
   "execution_count": null,
   "id": "f2c64ef7",
   "metadata": {},
   "outputs": [],
   "source": [
    "books.head(10)"
   ]
  },
  {
   "cell_type": "code",
   "execution_count": null,
   "id": "63f49de6",
   "metadata": {},
   "outputs": [],
   "source": [
    "bookMerge = books.merge(new_ratings,on='book_id')"
   ]
  },
  {
   "cell_type": "code",
   "execution_count": null,
   "id": "e0a8cd88",
   "metadata": {},
   "outputs": [],
   "source": [
    "bookMerge.head(150)"
   ]
  },
  {
   "cell_type": "code",
   "execution_count": null,
   "id": "f8898603",
   "metadata": {},
   "outputs": [],
   "source": [
    "bookMerge.isnull().sum()"
   ]
  },
  {
   "cell_type": "markdown",
   "id": "2ebb6a2c",
   "metadata": {},
   "source": [
    "=============================================================================================================================="
   ]
  },
  {
   "cell_type": "code",
   "execution_count": null,
   "id": "d8b8ae3e",
   "metadata": {},
   "outputs": [],
   "source": [
    "books.sort_values(by = ['average_rating','ratings_count'], ascending = False).head()"
   ]
  },
  {
   "cell_type": "code",
   "execution_count": null,
   "id": "38210283",
   "metadata": {},
   "outputs": [],
   "source": [
    "df_book = books[['original_title', 'average_rating', 'ratings_count']]\n",
    "df_book"
   ]
  },
  {
   "cell_type": "code",
   "execution_count": null,
   "id": "eea154fd",
   "metadata": {},
   "outputs": [],
   "source": [
    "df_book.describe()"
   ]
  },
  {
   "cell_type": "markdown",
   "id": "bf4d74e6",
   "metadata": {},
   "source": [
    "Weighted Rating\n",
    "v is the number of votes for the movie (represented by vote_count)\n",
    "\n",
    "m is the minimum of votes required to be listed in the chart (to be calculated)\n",
    "\n",
    "R is the average rating of the movie (represented by vote_average)\n",
    "\n",
    "C is the mean of average_rating across the whole report (to be calculated)\n",
    "\n",
    "(v / (v + m) * R) + (m / (m + v) * C)"
   ]
  },
  {
   "cell_type": "code",
   "execution_count": null,
   "id": "dc46c28e",
   "metadata": {},
   "outputs": [],
   "source": [
    "m = books['ratings_count'].quantile(0.90)"
   ]
  },
  {
   "cell_type": "code",
   "execution_count": null,
   "id": "8fdbebc0",
   "metadata": {},
   "outputs": [],
   "source": [
    "C = books['average_rating'].mean()"
   ]
  },
  {
   "cell_type": "code",
   "execution_count": null,
   "id": "26ca9762",
   "metadata": {},
   "outputs": [],
   "source": [
    "# Function that computes the weighted rating of each book\n",
    "def weighted_rating(x, m = m, C =C ):\n",
    "    \n",
    "    v = x['ratings_count']\n",
    "    R = x['average_rating']\n",
    "    \n",
    "    # Calculation based on the IMDB formula\n",
    "    return (v / (v + m) * R) + (m / (m + v) * C)"
   ]
  },
  {
   "cell_type": "code",
   "execution_count": null,
   "id": "68389528",
   "metadata": {},
   "outputs": [],
   "source": [
    "m"
   ]
  },
  {
   "cell_type": "markdown",
   "id": "d59610f4",
   "metadata": {},
   "source": [
    "The rating must more than 95%"
   ]
  },
  {
   "cell_type": "code",
   "execution_count": null,
   "id": "bec73d06",
   "metadata": {},
   "outputs": [],
   "source": [
    "# Extract all qualified movies into a new DataFrame\n",
    "qualified_books = df_book.copy().loc[df_book['ratings_count'] >= m]\n",
    "qualified_books"
   ]
  },
  {
   "cell_type": "code",
   "execution_count": null,
   "id": "399b5b2c",
   "metadata": {},
   "outputs": [],
   "source": [
    "len(qualified_books)"
   ]
  },
  {
   "cell_type": "markdown",
   "id": "875f7b00",
   "metadata": {},
   "source": [
    "Insert weighted rating into columns"
   ]
  },
  {
   "cell_type": "code",
   "execution_count": null,
   "id": "7bc37ef2",
   "metadata": {},
   "outputs": [],
   "source": [
    "qualified_books['weighted_rating'] = qualified_books.apply(weighted_rating, axis=1)\n"
   ]
  },
  {
   "cell_type": "code",
   "execution_count": null,
   "id": "77cdc4dc",
   "metadata": {},
   "outputs": [],
   "source": [
    "qualified_books.head()"
   ]
  },
  {
   "cell_type": "markdown",
   "id": "969f109e",
   "metadata": {},
   "source": [
    "# Recommander Top 10 Book"
   ]
  },
  {
   "cell_type": "code",
   "execution_count": null,
   "id": "c2a2f700",
   "metadata": {},
   "outputs": [],
   "source": [
    "\n",
    "qualified_books=qualified_books [['original_title', 'average_rating', 'ratings_count', 'weighted_rating']]\n",
    "qualified_books = qualified_books.sort_values('weighted_rating', ascending = False)\n",
    "\n",
    "qualified_books.head(10)"
   ]
  },
  {
   "cell_type": "markdown",
   "id": "e1e801b9",
   "metadata": {},
   "source": [
    "# Top genres Book"
   ]
  },
  {
   "cell_type": "code",
   "execution_count": null,
   "id": "d135e512",
   "metadata": {
    "scrolled": true
   },
   "outputs": [],
   "source": [
    "book_tags.head(10)"
   ]
  },
  {
   "cell_type": "code",
   "execution_count": null,
   "id": "ecb627c3",
   "metadata": {},
   "outputs": [],
   "source": [
    "tags.head(10)"
   ]
  },
  {
   "cell_type": "code",
   "execution_count": null,
   "id": "aaa2d71b",
   "metadata": {},
   "outputs": [],
   "source": [
    "genres = [\"Art\", \"Biography\", \"Business\", \"Chick Lit\", \"Children's\", \"Christian\", \"Classics\",\n",
    "          \"Comics\", \"Contemporary\", \"Cookbooks\", \"Crime\", \"Ebooks\", \"Fantasy\", \"Fiction\",\n",
    "          \"Gay and Lesbian\", \"Graphic Novels\", \"Historical Fiction\", \"History\", \"Horror\",\n",
    "          \"Humor and Comedy\", \"Manga\", \"Memoir\", \"Music\", \"Mystery\", \"Nonfiction\", \"Paranormal\",\n",
    "          \"Philosophy\", \"Poetry\", \"Psychology\", \"Religion\", \"Romance\", \"Science\", \"Science Fiction\", \n",
    "          \"Self Help\", \"Suspense\", \"Spirituality\", \"Sports\", \"Thriller\", \"Travel\", \"Young Adult\"]"
   ]
  },
  {
   "cell_type": "code",
   "execution_count": null,
   "id": "d465cd4c",
   "metadata": {},
   "outputs": [],
   "source": [
    "genres = list(map(str.lower, genres))\n",
    "genres[:4]"
   ]
  },
  {
   "cell_type": "code",
   "execution_count": null,
   "id": "f31d9309",
   "metadata": {},
   "outputs": [],
   "source": [
    "available_genres = tags.loc[tags.tag_name.str.lower().isin(genres)]"
   ]
  },
  {
   "cell_type": "code",
   "execution_count": null,
   "id": "e325364a",
   "metadata": {},
   "outputs": [],
   "source": [
    "available_genres.head(30)"
   ]
  },
  {
   "cell_type": "code",
   "execution_count": null,
   "id": "17d9fcdc",
   "metadata": {},
   "outputs": [],
   "source": [
    "available_genres_books = book_tags[book_tags.tag_id.isin(available_genres.tag_id)]"
   ]
  },
  {
   "cell_type": "code",
   "execution_count": null,
   "id": "907ad5b6",
   "metadata": {},
   "outputs": [],
   "source": [
    "print('There are {} books that are tagged with above genres'.format(available_genres_books.shape[0]))"
   ]
  },
  {
   "cell_type": "code",
   "execution_count": null,
   "id": "7306651f",
   "metadata": {},
   "outputs": [],
   "source": [
    "available_genres_books.head()"
   ]
  },
  {
   "cell_type": "code",
   "execution_count": null,
   "id": "a9c164ce",
   "metadata": {
    "scrolled": true
   },
   "outputs": [],
   "source": [
    "available_genres_books['genre'] = available_genres.tag_name.loc[available_genres_books.tag_id].values\n",
    "available_genres_books.head()"
   ]
  },
  {
   "cell_type": "code",
   "execution_count": null,
   "id": "c7dea58e",
   "metadata": {},
   "outputs": [],
   "source": [
    "books.head()"
   ]
  },
  {
   "cell_type": "code",
   "execution_count": null,
   "id": "46a8eaa8",
   "metadata": {},
   "outputs": [],
   "source": [
    "def recommender_genre(genre, percentile=0.85):\n",
    "    df = available_genres_books[available_genres_books['genre'] == genre.lower()]\n",
    "    #sets the 'book_id' column as the index of the books DataFrame. The index is the row labels of a DataFrame,\n",
    "    #and setting a column as the index can be useful for faster lookups, merging, or joining operations.\n",
    "    books_indexed = books.set_index('book_id')\n",
    "    \n",
    "    # Filter out book IDs not present in the 'books' DataFrame\n",
    "    valid_book_ids = df.goodreads_book_id[df.goodreads_book_id.isin(books_indexed.index)]\n",
    "    \n",
    "    qualified = books_indexed.loc[valid_book_ids]\n",
    "    \n",
    "    v = qualified['ratings_count']\n",
    "    m = qualified['ratings_count'].quantile(percentile)\n",
    "    R = qualified['average_rating']\n",
    "    C = qualified['average_rating'].mean()\n",
    "    qualified['weighted_rating'] = (v / (v + m) * R) + (m / (m + v) * C)\n",
    "\n",
    "    qualified.sort_values('weighted_rating', ascending=False, inplace=True)\n",
    "    return qualified"
   ]
  },
  {
   "cell_type": "code",
   "execution_count": null,
   "id": "93f1a6f6",
   "metadata": {},
   "outputs": [],
   "source": [
    "available_genres_books"
   ]
  },
  {
   "cell_type": "code",
   "execution_count": null,
   "id": "f52de8be",
   "metadata": {},
   "outputs": [],
   "source": [
    "cols = ['title','authors','original_publication_year','average_rating','ratings_count','work_text_reviews_count','weighted_rating']"
   ]
  },
  {
   "cell_type": "code",
   "execution_count": null,
   "id": "8ad71262",
   "metadata": {},
   "outputs": [],
   "source": [
    "genre = 'Fiction'\n",
    "recommender_genre(genre)[cols].head(15)"
   ]
  },
  {
   "cell_type": "code",
   "execution_count": null,
   "id": "89e2a754",
   "metadata": {},
   "outputs": [],
   "source": [
    "list(enumerate(available_genres.tag_name))"
   ]
  },
  {
   "cell_type": "code",
   "execution_count": null,
   "id": "9688e4c8",
   "metadata": {},
   "outputs": [],
   "source": [
    "idx = 24  # romance\n",
    "recommender_genre(list(available_genres.tag_name)[idx])[cols].head(15)"
   ]
  },
  {
   "cell_type": "code",
   "execution_count": null,
   "id": "bd3bd6f0",
   "metadata": {},
   "outputs": [],
   "source": [
    "list(enumerate(available_genres.tag_name))"
   ]
  },
  {
   "cell_type": "markdown",
   "id": "756adffe",
   "metadata": {},
   "source": [
    "# Top 20 Gerne Book"
   ]
  },
  {
   "cell_type": "code",
   "execution_count": null,
   "id": "6c033548",
   "metadata": {},
   "outputs": [],
   "source": [
    "idx = int(input(\"choose one genres : \"))\n",
    "recommender_genre(list(available_genres.tag_name)[idx])[cols].head(20)"
   ]
  },
  {
   "cell_type": "code",
   "execution_count": null,
   "id": "915fa08c",
   "metadata": {},
   "outputs": [],
   "source": []
  }
 ],
 "metadata": {
  "kernelspec": {
   "display_name": "Python 3 (ipykernel)",
   "language": "python",
   "name": "python3"
  },
  "language_info": {
   "codemirror_mode": {
    "name": "ipython",
    "version": 3
   },
   "file_extension": ".py",
   "mimetype": "text/x-python",
   "name": "python",
   "nbconvert_exporter": "python",
   "pygments_lexer": "ipython3",
   "version": "3.10.9"
  }
 },
 "nbformat": 4,
 "nbformat_minor": 5
}
