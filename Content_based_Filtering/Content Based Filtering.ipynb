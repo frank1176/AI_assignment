{
 "cells": [
  {
   "cell_type": "code",
   "execution_count": 1,
   "id": "a8e5c40a",
   "metadata": {},
   "outputs": [],
   "source": [
    "import numpy as np\n",
    "import pandas as pd\n",
    "import matplotlib.pyplot as plt\n",
    "from sklearn.feature_extraction.text import CountVectorizer\n",
    "from sklearn.feature_extraction.text import TfidfVectorizer\n",
    "from sklearn.metrics.pairwise import cosine_similarity\n",
    "from sklearn.metrics.pairwise import linear_kernel\n",
    "import seaborn as sns\n",
    "\n",
    "import warnings\n",
    "warnings.filterwarnings('ignore')"
   ]
  },
  {
   "cell_type": "code",
   "execution_count": 2,
   "id": "c37b1215",
   "metadata": {},
   "outputs": [
    {
     "data": {
      "text/html": [
       "<div>\n",
       "<style scoped>\n",
       "    .dataframe tbody tr th:only-of-type {\n",
       "        vertical-align: middle;\n",
       "    }\n",
       "\n",
       "    .dataframe tbody tr th {\n",
       "        vertical-align: top;\n",
       "    }\n",
       "\n",
       "    .dataframe thead th {\n",
       "        text-align: right;\n",
       "    }\n",
       "</style>\n",
       "<table border=\"1\" class=\"dataframe\">\n",
       "  <thead>\n",
       "    <tr style=\"text-align: right;\">\n",
       "      <th></th>\n",
       "      <th>id</th>\n",
       "      <th>book_id</th>\n",
       "      <th>best_book_id</th>\n",
       "      <th>work_id</th>\n",
       "      <th>books_count</th>\n",
       "      <th>isbn</th>\n",
       "      <th>isbn13</th>\n",
       "      <th>authors</th>\n",
       "      <th>original_publication_year</th>\n",
       "      <th>original_title</th>\n",
       "      <th>...</th>\n",
       "      <th>ratings_count</th>\n",
       "      <th>work_ratings_count</th>\n",
       "      <th>work_text_reviews_count</th>\n",
       "      <th>ratings_1</th>\n",
       "      <th>ratings_2</th>\n",
       "      <th>ratings_3</th>\n",
       "      <th>ratings_4</th>\n",
       "      <th>ratings_5</th>\n",
       "      <th>image_url</th>\n",
       "      <th>small_image_url</th>\n",
       "    </tr>\n",
       "  </thead>\n",
       "  <tbody>\n",
       "    <tr>\n",
       "      <th>0</th>\n",
       "      <td>1</td>\n",
       "      <td>2767052</td>\n",
       "      <td>2767052</td>\n",
       "      <td>2792775</td>\n",
       "      <td>272</td>\n",
       "      <td>439023483</td>\n",
       "      <td>9.780439e+12</td>\n",
       "      <td>Suzanne Collins</td>\n",
       "      <td>2008.0</td>\n",
       "      <td>The Hunger Games</td>\n",
       "      <td>...</td>\n",
       "      <td>4780653</td>\n",
       "      <td>4942365</td>\n",
       "      <td>155254</td>\n",
       "      <td>66715</td>\n",
       "      <td>127936</td>\n",
       "      <td>560092</td>\n",
       "      <td>1481305</td>\n",
       "      <td>2706317</td>\n",
       "      <td>https://images.gr-assets.com/books/1447303603m...</td>\n",
       "      <td>https://images.gr-assets.com/books/1447303603s...</td>\n",
       "    </tr>\n",
       "    <tr>\n",
       "      <th>1</th>\n",
       "      <td>2</td>\n",
       "      <td>3</td>\n",
       "      <td>3</td>\n",
       "      <td>4640799</td>\n",
       "      <td>491</td>\n",
       "      <td>439554934</td>\n",
       "      <td>9.780440e+12</td>\n",
       "      <td>J.K. Rowling, Mary GrandPré</td>\n",
       "      <td>1997.0</td>\n",
       "      <td>Harry Potter and the Philosopher's Stone</td>\n",
       "      <td>...</td>\n",
       "      <td>4602479</td>\n",
       "      <td>4800065</td>\n",
       "      <td>75867</td>\n",
       "      <td>75504</td>\n",
       "      <td>101676</td>\n",
       "      <td>455024</td>\n",
       "      <td>1156318</td>\n",
       "      <td>3011543</td>\n",
       "      <td>https://images.gr-assets.com/books/1474154022m...</td>\n",
       "      <td>https://images.gr-assets.com/books/1474154022s...</td>\n",
       "    </tr>\n",
       "    <tr>\n",
       "      <th>2</th>\n",
       "      <td>3</td>\n",
       "      <td>41865</td>\n",
       "      <td>41865</td>\n",
       "      <td>3212258</td>\n",
       "      <td>226</td>\n",
       "      <td>316015849</td>\n",
       "      <td>9.780316e+12</td>\n",
       "      <td>Stephenie Meyer</td>\n",
       "      <td>2005.0</td>\n",
       "      <td>Twilight</td>\n",
       "      <td>...</td>\n",
       "      <td>3866839</td>\n",
       "      <td>3916824</td>\n",
       "      <td>95009</td>\n",
       "      <td>456191</td>\n",
       "      <td>436802</td>\n",
       "      <td>793319</td>\n",
       "      <td>875073</td>\n",
       "      <td>1355439</td>\n",
       "      <td>https://images.gr-assets.com/books/1361039443m...</td>\n",
       "      <td>https://images.gr-assets.com/books/1361039443s...</td>\n",
       "    </tr>\n",
       "    <tr>\n",
       "      <th>3</th>\n",
       "      <td>4</td>\n",
       "      <td>2657</td>\n",
       "      <td>2657</td>\n",
       "      <td>3275794</td>\n",
       "      <td>487</td>\n",
       "      <td>61120081</td>\n",
       "      <td>9.780061e+12</td>\n",
       "      <td>Harper Lee</td>\n",
       "      <td>1960.0</td>\n",
       "      <td>To Kill a Mockingbird</td>\n",
       "      <td>...</td>\n",
       "      <td>3198671</td>\n",
       "      <td>3340896</td>\n",
       "      <td>72586</td>\n",
       "      <td>60427</td>\n",
       "      <td>117415</td>\n",
       "      <td>446835</td>\n",
       "      <td>1001952</td>\n",
       "      <td>1714267</td>\n",
       "      <td>https://images.gr-assets.com/books/1361975680m...</td>\n",
       "      <td>https://images.gr-assets.com/books/1361975680s...</td>\n",
       "    </tr>\n",
       "    <tr>\n",
       "      <th>4</th>\n",
       "      <td>5</td>\n",
       "      <td>4671</td>\n",
       "      <td>4671</td>\n",
       "      <td>245494</td>\n",
       "      <td>1356</td>\n",
       "      <td>743273567</td>\n",
       "      <td>9.780743e+12</td>\n",
       "      <td>F. Scott Fitzgerald</td>\n",
       "      <td>1925.0</td>\n",
       "      <td>The Great Gatsby</td>\n",
       "      <td>...</td>\n",
       "      <td>2683664</td>\n",
       "      <td>2773745</td>\n",
       "      <td>51992</td>\n",
       "      <td>86236</td>\n",
       "      <td>197621</td>\n",
       "      <td>606158</td>\n",
       "      <td>936012</td>\n",
       "      <td>947718</td>\n",
       "      <td>https://images.gr-assets.com/books/1490528560m...</td>\n",
       "      <td>https://images.gr-assets.com/books/1490528560s...</td>\n",
       "    </tr>\n",
       "  </tbody>\n",
       "</table>\n",
       "<p>5 rows × 23 columns</p>\n",
       "</div>"
      ],
      "text/plain": [
       "   id  book_id  best_book_id  work_id  books_count       isbn        isbn13  \\\n",
       "0   1  2767052       2767052  2792775          272  439023483  9.780439e+12   \n",
       "1   2        3             3  4640799          491  439554934  9.780440e+12   \n",
       "2   3    41865         41865  3212258          226  316015849  9.780316e+12   \n",
       "3   4     2657          2657  3275794          487   61120081  9.780061e+12   \n",
       "4   5     4671          4671   245494         1356  743273567  9.780743e+12   \n",
       "\n",
       "                       authors  original_publication_year  \\\n",
       "0              Suzanne Collins                     2008.0   \n",
       "1  J.K. Rowling, Mary GrandPré                     1997.0   \n",
       "2              Stephenie Meyer                     2005.0   \n",
       "3                   Harper Lee                     1960.0   \n",
       "4          F. Scott Fitzgerald                     1925.0   \n",
       "\n",
       "                             original_title  ... ratings_count  \\\n",
       "0                          The Hunger Games  ...       4780653   \n",
       "1  Harry Potter and the Philosopher's Stone  ...       4602479   \n",
       "2                                  Twilight  ...       3866839   \n",
       "3                     To Kill a Mockingbird  ...       3198671   \n",
       "4                          The Great Gatsby  ...       2683664   \n",
       "\n",
       "  work_ratings_count  work_text_reviews_count  ratings_1  ratings_2  \\\n",
       "0            4942365                   155254      66715     127936   \n",
       "1            4800065                    75867      75504     101676   \n",
       "2            3916824                    95009     456191     436802   \n",
       "3            3340896                    72586      60427     117415   \n",
       "4            2773745                    51992      86236     197621   \n",
       "\n",
       "   ratings_3  ratings_4  ratings_5  \\\n",
       "0     560092    1481305    2706317   \n",
       "1     455024    1156318    3011543   \n",
       "2     793319     875073    1355439   \n",
       "3     446835    1001952    1714267   \n",
       "4     606158     936012     947718   \n",
       "\n",
       "                                           image_url  \\\n",
       "0  https://images.gr-assets.com/books/1447303603m...   \n",
       "1  https://images.gr-assets.com/books/1474154022m...   \n",
       "2  https://images.gr-assets.com/books/1361039443m...   \n",
       "3  https://images.gr-assets.com/books/1361975680m...   \n",
       "4  https://images.gr-assets.com/books/1490528560m...   \n",
       "\n",
       "                                     small_image_url  \n",
       "0  https://images.gr-assets.com/books/1447303603s...  \n",
       "1  https://images.gr-assets.com/books/1474154022s...  \n",
       "2  https://images.gr-assets.com/books/1361039443s...  \n",
       "3  https://images.gr-assets.com/books/1361975680s...  \n",
       "4  https://images.gr-assets.com/books/1490528560s...  \n",
       "\n",
       "[5 rows x 23 columns]"
      ]
     },
     "execution_count": 2,
     "metadata": {},
     "output_type": "execute_result"
    }
   ],
   "source": [
    "books = pd.read_csv('books.csv', low_memory=False)\n",
    "books.head()"
   ]
  },
  {
   "cell_type": "code",
   "execution_count": 3,
   "id": "07d5b6f6",
   "metadata": {},
   "outputs": [
    {
     "data": {
      "text/html": [
       "<div>\n",
       "<style scoped>\n",
       "    .dataframe tbody tr th:only-of-type {\n",
       "        vertical-align: middle;\n",
       "    }\n",
       "\n",
       "    .dataframe tbody tr th {\n",
       "        vertical-align: top;\n",
       "    }\n",
       "\n",
       "    .dataframe thead th {\n",
       "        text-align: right;\n",
       "    }\n",
       "</style>\n",
       "<table border=\"1\" class=\"dataframe\">\n",
       "  <thead>\n",
       "    <tr style=\"text-align: right;\">\n",
       "      <th></th>\n",
       "      <th>book_id</th>\n",
       "      <th>user_id</th>\n",
       "      <th>rating</th>\n",
       "    </tr>\n",
       "  </thead>\n",
       "  <tbody>\n",
       "    <tr>\n",
       "      <th>0</th>\n",
       "      <td>1</td>\n",
       "      <td>314</td>\n",
       "      <td>5</td>\n",
       "    </tr>\n",
       "    <tr>\n",
       "      <th>1</th>\n",
       "      <td>1</td>\n",
       "      <td>439</td>\n",
       "      <td>3</td>\n",
       "    </tr>\n",
       "    <tr>\n",
       "      <th>2</th>\n",
       "      <td>1</td>\n",
       "      <td>588</td>\n",
       "      <td>5</td>\n",
       "    </tr>\n",
       "    <tr>\n",
       "      <th>3</th>\n",
       "      <td>1</td>\n",
       "      <td>1169</td>\n",
       "      <td>4</td>\n",
       "    </tr>\n",
       "    <tr>\n",
       "      <th>4</th>\n",
       "      <td>1</td>\n",
       "      <td>1185</td>\n",
       "      <td>4</td>\n",
       "    </tr>\n",
       "  </tbody>\n",
       "</table>\n",
       "</div>"
      ],
      "text/plain": [
       "   book_id  user_id  rating\n",
       "0        1      314       5\n",
       "1        1      439       3\n",
       "2        1      588       5\n",
       "3        1     1169       4\n",
       "4        1     1185       4"
      ]
     },
     "execution_count": 3,
     "metadata": {},
     "output_type": "execute_result"
    }
   ],
   "source": [
    "ratings = pd.read_csv('ratings.csv', low_memory=False)\n",
    "ratings.head()"
   ]
  },
  {
   "cell_type": "code",
   "execution_count": 4,
   "id": "4a2cf3e5",
   "metadata": {},
   "outputs": [
    {
     "data": {
      "text/html": [
       "<div>\n",
       "<style scoped>\n",
       "    .dataframe tbody tr th:only-of-type {\n",
       "        vertical-align: middle;\n",
       "    }\n",
       "\n",
       "    .dataframe tbody tr th {\n",
       "        vertical-align: top;\n",
       "    }\n",
       "\n",
       "    .dataframe thead th {\n",
       "        text-align: right;\n",
       "    }\n",
       "</style>\n",
       "<table border=\"1\" class=\"dataframe\">\n",
       "  <thead>\n",
       "    <tr style=\"text-align: right;\">\n",
       "      <th></th>\n",
       "      <th>tag_id</th>\n",
       "      <th>tag_name</th>\n",
       "    </tr>\n",
       "  </thead>\n",
       "  <tbody>\n",
       "    <tr>\n",
       "      <th>0</th>\n",
       "      <td>0</td>\n",
       "      <td>-</td>\n",
       "    </tr>\n",
       "    <tr>\n",
       "      <th>1</th>\n",
       "      <td>1</td>\n",
       "      <td>--1-</td>\n",
       "    </tr>\n",
       "    <tr>\n",
       "      <th>2</th>\n",
       "      <td>2</td>\n",
       "      <td>--10-</td>\n",
       "    </tr>\n",
       "    <tr>\n",
       "      <th>3</th>\n",
       "      <td>3</td>\n",
       "      <td>--12-</td>\n",
       "    </tr>\n",
       "    <tr>\n",
       "      <th>4</th>\n",
       "      <td>4</td>\n",
       "      <td>--122-</td>\n",
       "    </tr>\n",
       "  </tbody>\n",
       "</table>\n",
       "</div>"
      ],
      "text/plain": [
       "   tag_id tag_name\n",
       "0       0        -\n",
       "1       1     --1-\n",
       "2       2    --10-\n",
       "3       3    --12-\n",
       "4       4   --122-"
      ]
     },
     "execution_count": 4,
     "metadata": {},
     "output_type": "execute_result"
    }
   ],
   "source": [
    "tags = pd.read_csv('tags.csv', low_memory=False)\n",
    "tags.head()"
   ]
  },
  {
   "cell_type": "code",
   "execution_count": 5,
   "id": "206b1a8e",
   "metadata": {},
   "outputs": [
    {
     "data": {
      "text/html": [
       "<div>\n",
       "<style scoped>\n",
       "    .dataframe tbody tr th:only-of-type {\n",
       "        vertical-align: middle;\n",
       "    }\n",
       "\n",
       "    .dataframe tbody tr th {\n",
       "        vertical-align: top;\n",
       "    }\n",
       "\n",
       "    .dataframe thead th {\n",
       "        text-align: right;\n",
       "    }\n",
       "</style>\n",
       "<table border=\"1\" class=\"dataframe\">\n",
       "  <thead>\n",
       "    <tr style=\"text-align: right;\">\n",
       "      <th></th>\n",
       "      <th>goodreads_book_id</th>\n",
       "      <th>tag_id</th>\n",
       "      <th>count</th>\n",
       "    </tr>\n",
       "  </thead>\n",
       "  <tbody>\n",
       "    <tr>\n",
       "      <th>0</th>\n",
       "      <td>1</td>\n",
       "      <td>30574</td>\n",
       "      <td>167697</td>\n",
       "    </tr>\n",
       "    <tr>\n",
       "      <th>1</th>\n",
       "      <td>1</td>\n",
       "      <td>11305</td>\n",
       "      <td>37174</td>\n",
       "    </tr>\n",
       "    <tr>\n",
       "      <th>2</th>\n",
       "      <td>1</td>\n",
       "      <td>11557</td>\n",
       "      <td>34173</td>\n",
       "    </tr>\n",
       "    <tr>\n",
       "      <th>3</th>\n",
       "      <td>1</td>\n",
       "      <td>8717</td>\n",
       "      <td>12986</td>\n",
       "    </tr>\n",
       "    <tr>\n",
       "      <th>4</th>\n",
       "      <td>1</td>\n",
       "      <td>33114</td>\n",
       "      <td>12716</td>\n",
       "    </tr>\n",
       "  </tbody>\n",
       "</table>\n",
       "</div>"
      ],
      "text/plain": [
       "   goodreads_book_id  tag_id   count\n",
       "0                  1   30574  167697\n",
       "1                  1   11305   37174\n",
       "2                  1   11557   34173\n",
       "3                  1    8717   12986\n",
       "4                  1   33114   12716"
      ]
     },
     "execution_count": 5,
     "metadata": {},
     "output_type": "execute_result"
    }
   ],
   "source": [
    "book_tags = pd.read_csv('book_tags.csv', low_memory=False)\n",
    "book_tags.head()"
   ]
  },
  {
   "cell_type": "code",
   "execution_count": 6,
   "id": "93ac3462",
   "metadata": {
    "scrolled": false
   },
   "outputs": [
    {
     "data": {
      "text/plain": [
       "Index(['id', 'book_id', 'best_book_id', 'work_id', 'books_count', 'isbn',\n",
       "       'isbn13', 'authors', 'original_publication_year', 'original_title',\n",
       "       'title', 'language_code', 'average_rating', 'ratings_count',\n",
       "       'work_ratings_count', 'work_text_reviews_count', 'ratings_1',\n",
       "       'ratings_2', 'ratings_3', 'ratings_4', 'ratings_5', 'image_url',\n",
       "       'small_image_url'],\n",
       "      dtype='object')"
      ]
     },
     "execution_count": 6,
     "metadata": {},
     "output_type": "execute_result"
    }
   ],
   "source": [
    "books.columns"
   ]
  },
  {
   "cell_type": "markdown",
   "id": "6869539a",
   "metadata": {},
   "source": [
    "# Content Based Filtering Recommender System"
   ]
  },
  {
   "cell_type": "markdown",
   "id": "623cb02d",
   "metadata": {},
   "source": [
    "Filter the book recommendation through similar author"
   ]
  },
  {
   "cell_type": "code",
   "execution_count": 7,
   "id": "492014ac",
   "metadata": {},
   "outputs": [
    {
     "data": {
      "text/html": [
       "<div>\n",
       "<style scoped>\n",
       "    .dataframe tbody tr th:only-of-type {\n",
       "        vertical-align: middle;\n",
       "    }\n",
       "\n",
       "    .dataframe tbody tr th {\n",
       "        vertical-align: top;\n",
       "    }\n",
       "\n",
       "    .dataframe thead th {\n",
       "        text-align: right;\n",
       "    }\n",
       "</style>\n",
       "<table border=\"1\" class=\"dataframe\">\n",
       "  <thead>\n",
       "    <tr style=\"text-align: right;\">\n",
       "      <th></th>\n",
       "      <th>book_id</th>\n",
       "      <th>title</th>\n",
       "      <th>authors</th>\n",
       "    </tr>\n",
       "  </thead>\n",
       "  <tbody>\n",
       "    <tr>\n",
       "      <th>0</th>\n",
       "      <td>2767052</td>\n",
       "      <td>The Hunger Games (The Hunger Games, #1)</td>\n",
       "      <td>Suzanne Collins</td>\n",
       "    </tr>\n",
       "    <tr>\n",
       "      <th>1</th>\n",
       "      <td>3</td>\n",
       "      <td>Harry Potter and the Sorcerer's Stone (Harry P...</td>\n",
       "      <td>J.K. Rowling, Mary GrandPré</td>\n",
       "    </tr>\n",
       "    <tr>\n",
       "      <th>2</th>\n",
       "      <td>41865</td>\n",
       "      <td>Twilight (Twilight, #1)</td>\n",
       "      <td>Stephenie Meyer</td>\n",
       "    </tr>\n",
       "    <tr>\n",
       "      <th>3</th>\n",
       "      <td>2657</td>\n",
       "      <td>To Kill a Mockingbird</td>\n",
       "      <td>Harper Lee</td>\n",
       "    </tr>\n",
       "    <tr>\n",
       "      <th>4</th>\n",
       "      <td>4671</td>\n",
       "      <td>The Great Gatsby</td>\n",
       "      <td>F. Scott Fitzgerald</td>\n",
       "    </tr>\n",
       "  </tbody>\n",
       "</table>\n",
       "</div>"
      ],
      "text/plain": [
       "   book_id                                              title  \\\n",
       "0  2767052            The Hunger Games (The Hunger Games, #1)   \n",
       "1        3  Harry Potter and the Sorcerer's Stone (Harry P...   \n",
       "2    41865                            Twilight (Twilight, #1)   \n",
       "3     2657                              To Kill a Mockingbird   \n",
       "4     4671                                   The Great Gatsby   \n",
       "\n",
       "                       authors  \n",
       "0              Suzanne Collins  \n",
       "1  J.K. Rowling, Mary GrandPré  \n",
       "2              Stephenie Meyer  \n",
       "3                   Harper Lee  \n",
       "4          F. Scott Fitzgerald  "
      ]
     },
     "execution_count": 7,
     "metadata": {},
     "output_type": "execute_result"
    }
   ],
   "source": [
    "books_authors = books[['book_id', 'title','authors']]\n",
    "books_authors.head()"
   ]
  },
  {
   "cell_type": "code",
   "execution_count": 8,
   "id": "3e3a9810",
   "metadata": {},
   "outputs": [
    {
     "data": {
      "text/plain": [
       "array([[1., 0., 0., ..., 0., 0., 0.],\n",
       "       [0., 1., 0., ..., 0., 0., 0.],\n",
       "       [0., 0., 1., ..., 0., 0., 0.],\n",
       "       ...,\n",
       "       [0., 0., 0., ..., 1., 0., 0.],\n",
       "       [0., 0., 0., ..., 0., 1., 0.],\n",
       "       [0., 0., 0., ..., 0., 0., 1.]])"
      ]
     },
     "execution_count": 8,
     "metadata": {},
     "output_type": "execute_result"
    }
   ],
   "source": [
    "# Remove words such as is, an, the, etc\n",
    "tf = TfidfVectorizer(analyzer='word', stop_words='english')\n",
    "# Construct the required TF-IDF matrix by fitting and transforming the data\n",
    "tfidf_matrix = tf.fit_transform(books_authors['authors'])\n",
    "# Compute the cosine similarity matrix\n",
    "cosine_sim = linear_kernel(tfidf_matrix, tfidf_matrix)\n",
    "cosine_sim"
   ]
  },
  {
   "cell_type": "code",
   "execution_count": 9,
   "id": "a7d6d754",
   "metadata": {},
   "outputs": [],
   "source": [
    "# Build  1-dimensional array for titles\n",
    "titles = books_authors['title']\n",
    "indices = pd.Series(books_authors.index, index=books_authors['title'])"
   ]
  },
  {
   "cell_type": "code",
   "execution_count": 10,
   "id": "855a9aeb",
   "metadata": {},
   "outputs": [],
   "source": [
    "# Function to get book recommendations based on the cosine similarity score of authors\n",
    "def authors_recommendations(title):\n",
    "    # Get the index of the matched book title\n",
    "    idx = indices[title]\n",
    "    # Get the pairwise similarity scores of all books with the selected\n",
    "    sim_scores = list(enumerate(cosine_sim[idx]))\n",
    "    # Sort the books based on the similarity scores\n",
    "    sim_scores = sorted(sim_scores, key=lambda x: x[1], reverse=True)\n",
    "    # Get the scores of the 10 most similar books\n",
    "    sim_scores = sim_scores[1:11]\n",
    "    # Get the book indices\n",
    "    book_indices = [i[0] for i in sim_scores]\n",
    "    # Return the top 10 similar books\n",
    "    return titles.iloc[book_indices]"
   ]
  },
  {
   "cell_type": "code",
   "execution_count": 11,
   "id": "74780150",
   "metadata": {},
   "outputs": [
    {
     "name": "stdout",
     "output_type": "stream",
     "text": [
      "Enter the book title: Gone Girl\n"
     ]
    }
   ],
   "source": [
    "# Getting input of book title from user\n",
    "book_name = input('Enter the book title: ')"
   ]
  },
  {
   "cell_type": "code",
   "execution_count": 12,
   "id": "766fa421",
   "metadata": {},
   "outputs": [
    {
     "data": {
      "text/plain": [
       "225                              Dark Places\n",
       "243                            Sharp Objects\n",
       "2168                             The Grownup\n",
       "9758     Another Bullshit Night in Suck City\n",
       "2058      American Assassin (Mitch Rapp, #1)\n",
       "2514         Act of Treason (Mitch Rapp, #9)\n",
       "2621           Memorial Day (Mitch Rapp, #7)\n",
       "2829        Consent to Kill (Mitch Rapp, #8)\n",
       "2834    Separation of Power (Mitch Rapp, #5)\n",
       "2919      Transfer of Power (Mitch Rapp, #3)\n",
       "Name: title, dtype: object"
      ]
     },
     "execution_count": 12,
     "metadata": {},
     "output_type": "execute_result"
    }
   ],
   "source": [
    "authors_recommendations(book_name)"
   ]
  },
  {
   "cell_type": "code",
   "execution_count": 13,
   "id": "ec410d5e",
   "metadata": {},
   "outputs": [
    {
     "data": {
      "text/html": [
       "<div>\n",
       "<style scoped>\n",
       "    .dataframe tbody tr th:only-of-type {\n",
       "        vertical-align: middle;\n",
       "    }\n",
       "\n",
       "    .dataframe tbody tr th {\n",
       "        vertical-align: top;\n",
       "    }\n",
       "\n",
       "    .dataframe thead th {\n",
       "        text-align: right;\n",
       "    }\n",
       "</style>\n",
       "<table border=\"1\" class=\"dataframe\">\n",
       "  <thead>\n",
       "    <tr style=\"text-align: right;\">\n",
       "      <th></th>\n",
       "      <th>goodreads_book_id</th>\n",
       "      <th>tag_id</th>\n",
       "      <th>count</th>\n",
       "      <th>tag_name</th>\n",
       "    </tr>\n",
       "  </thead>\n",
       "  <tbody>\n",
       "    <tr>\n",
       "      <th>0</th>\n",
       "      <td>1</td>\n",
       "      <td>30574</td>\n",
       "      <td>167697</td>\n",
       "      <td>to-read</td>\n",
       "    </tr>\n",
       "    <tr>\n",
       "      <th>1</th>\n",
       "      <td>2</td>\n",
       "      <td>30574</td>\n",
       "      <td>24549</td>\n",
       "      <td>to-read</td>\n",
       "    </tr>\n",
       "    <tr>\n",
       "      <th>2</th>\n",
       "      <td>3</td>\n",
       "      <td>30574</td>\n",
       "      <td>496107</td>\n",
       "      <td>to-read</td>\n",
       "    </tr>\n",
       "    <tr>\n",
       "      <th>3</th>\n",
       "      <td>5</td>\n",
       "      <td>30574</td>\n",
       "      <td>11909</td>\n",
       "      <td>to-read</td>\n",
       "    </tr>\n",
       "    <tr>\n",
       "      <th>4</th>\n",
       "      <td>6</td>\n",
       "      <td>30574</td>\n",
       "      <td>298</td>\n",
       "      <td>to-read</td>\n",
       "    </tr>\n",
       "  </tbody>\n",
       "</table>\n",
       "</div>"
      ],
      "text/plain": [
       "   goodreads_book_id  tag_id   count tag_name\n",
       "0                  1   30574  167697  to-read\n",
       "1                  2   30574   24549  to-read\n",
       "2                  3   30574  496107  to-read\n",
       "3                  5   30574   11909  to-read\n",
       "4                  6   30574     298  to-read"
      ]
     },
     "execution_count": 13,
     "metadata": {},
     "output_type": "execute_result"
    }
   ],
   "source": [
    "# Combine book tags with tags.csv\n",
    "join_tags = pd.merge(book_tags, tags, left_on='tag_id', right_on='tag_id', how='inner')\n",
    "join_tags.head()"
   ]
  },
  {
   "cell_type": "code",
   "execution_count": 14,
   "id": "2ef426ac",
   "metadata": {},
   "outputs": [
    {
     "data": {
      "text/html": [
       "<div>\n",
       "<style scoped>\n",
       "    .dataframe tbody tr th:only-of-type {\n",
       "        vertical-align: middle;\n",
       "    }\n",
       "\n",
       "    .dataframe tbody tr th {\n",
       "        vertical-align: top;\n",
       "    }\n",
       "\n",
       "    .dataframe thead th {\n",
       "        text-align: right;\n",
       "    }\n",
       "</style>\n",
       "<table border=\"1\" class=\"dataframe\">\n",
       "  <thead>\n",
       "    <tr style=\"text-align: right;\">\n",
       "      <th></th>\n",
       "      <th>book_id</th>\n",
       "      <th>title</th>\n",
       "      <th>authors</th>\n",
       "      <th>goodreads_book_id</th>\n",
       "      <th>tag_id</th>\n",
       "      <th>count</th>\n",
       "      <th>tag_name</th>\n",
       "    </tr>\n",
       "  </thead>\n",
       "  <tbody>\n",
       "    <tr>\n",
       "      <th>0</th>\n",
       "      <td>2767052</td>\n",
       "      <td>The Hunger Games (The Hunger Games, #1)</td>\n",
       "      <td>Suzanne Collins</td>\n",
       "      <td>2767052</td>\n",
       "      <td>30574</td>\n",
       "      <td>11314</td>\n",
       "      <td>to-read</td>\n",
       "    </tr>\n",
       "    <tr>\n",
       "      <th>1</th>\n",
       "      <td>2767052</td>\n",
       "      <td>The Hunger Games (The Hunger Games, #1)</td>\n",
       "      <td>Suzanne Collins</td>\n",
       "      <td>2767052</td>\n",
       "      <td>11305</td>\n",
       "      <td>10836</td>\n",
       "      <td>fantasy</td>\n",
       "    </tr>\n",
       "    <tr>\n",
       "      <th>2</th>\n",
       "      <td>2767052</td>\n",
       "      <td>The Hunger Games (The Hunger Games, #1)</td>\n",
       "      <td>Suzanne Collins</td>\n",
       "      <td>2767052</td>\n",
       "      <td>11557</td>\n",
       "      <td>50755</td>\n",
       "      <td>favorites</td>\n",
       "    </tr>\n",
       "    <tr>\n",
       "      <th>3</th>\n",
       "      <td>2767052</td>\n",
       "      <td>The Hunger Games (The Hunger Games, #1)</td>\n",
       "      <td>Suzanne Collins</td>\n",
       "      <td>2767052</td>\n",
       "      <td>8717</td>\n",
       "      <td>35418</td>\n",
       "      <td>currently-reading</td>\n",
       "    </tr>\n",
       "    <tr>\n",
       "      <th>4</th>\n",
       "      <td>2767052</td>\n",
       "      <td>The Hunger Games (The Hunger Games, #1)</td>\n",
       "      <td>Suzanne Collins</td>\n",
       "      <td>2767052</td>\n",
       "      <td>33114</td>\n",
       "      <td>25968</td>\n",
       "      <td>young-adult</td>\n",
       "    </tr>\n",
       "  </tbody>\n",
       "</table>\n",
       "</div>"
      ],
      "text/plain": [
       "   book_id                                    title          authors  \\\n",
       "0  2767052  The Hunger Games (The Hunger Games, #1)  Suzanne Collins   \n",
       "1  2767052  The Hunger Games (The Hunger Games, #1)  Suzanne Collins   \n",
       "2  2767052  The Hunger Games (The Hunger Games, #1)  Suzanne Collins   \n",
       "3  2767052  The Hunger Games (The Hunger Games, #1)  Suzanne Collins   \n",
       "4  2767052  The Hunger Games (The Hunger Games, #1)  Suzanne Collins   \n",
       "\n",
       "   goodreads_book_id  tag_id  count           tag_name  \n",
       "0            2767052   30574  11314            to-read  \n",
       "1            2767052   11305  10836            fantasy  \n",
       "2            2767052   11557  50755          favorites  \n",
       "3            2767052    8717  35418  currently-reading  \n",
       "4            2767052   33114  25968        young-adult  "
      ]
     },
     "execution_count": 14,
     "metadata": {},
     "output_type": "execute_result"
    }
   ],
   "source": [
    "# Combine file\n",
    "books_merge_tags = pd.merge(books_authors, join_tags, left_on='book_id', right_on='goodreads_book_id', how='inner')\n",
    "books_merge_tags.head()"
   ]
  },
  {
   "cell_type": "code",
   "execution_count": 15,
   "id": "57d48061",
   "metadata": {},
   "outputs": [
    {
     "data": {
      "text/plain": [
       "array([[1., 0., 0., ..., 0., 0., 0.],\n",
       "       [0., 1., 0., ..., 0., 0., 0.],\n",
       "       [0., 0., 1., ..., 0., 0., 0.],\n",
       "       ...,\n",
       "       [0., 0., 0., ..., 1., 0., 0.],\n",
       "       [0., 0., 0., ..., 0., 1., 0.],\n",
       "       [0., 0., 0., ..., 0., 0., 1.]])"
      ]
     },
     "execution_count": 15,
     "metadata": {},
     "output_type": "execute_result"
    }
   ],
   "source": [
    "# Define a TF-IDF Vectorizer Object.\n",
    "# Remove words such as 'the', 'a'\n",
    "# Convert text to feature vectors that can be used as input to estimator\n",
    "tf1 = TfidfVectorizer(analyzer='word',ngram_range=(1, 2),min_df=0, stop_words='english')\n",
    "\n",
    "#Construct the required TF-IDF matrix by fitting and transforming the data\n",
    "tfidf_matrix1 = tf1.fit_transform(books_merge_tags['tag_name'].head(10000))\n",
    "cosine_sim1 = linear_kernel(tfidf_matrix1, tfidf_matrix1)\n",
    "cosine_sim1"
   ]
  },
  {
   "cell_type": "code",
   "execution_count": 16,
   "id": "1cd17347",
   "metadata": {},
   "outputs": [],
   "source": [
    "# Build  1-dimensional array with book titles\n",
    "book_titles = books_authors['title']\n",
    "book_indices = pd.Series(books.index, index=books_authors['title'])\n",
    "\n",
    "# Function that get book recommendations based on the cosine similarity score of book tags\n",
    "def tags_recommendations(title):\n",
    "    # Get the index of the matched book title\n",
    "    idx = book_indices[title]\n",
    "    # Get the pairwise similarity scores of all books with the selected\n",
    "    sim_scores = list(enumerate(cosine_sim[idx]))\n",
    "    # Sort the books based on the similarity scores\n",
    "    sim_scores = sorted(sim_scores, key=lambda x: x[1], reverse=True)\n",
    "    # Get the scores of the 10 most similar books\n",
    "    sim_scores = sim_scores[1:11]\n",
    "    # Get the book indices\n",
    "    book_indices1 = [i[0] for i in sim_scores]\n",
    "    # Return the top 10 similar books\n",
    "    return titles.iloc[book_indices1]"
   ]
  },
  {
   "cell_type": "code",
   "execution_count": 17,
   "id": "6c499cb0",
   "metadata": {},
   "outputs": [
    {
     "name": "stdout",
     "output_type": "stream",
     "text": [
      "Enter the book title:  Gone Girl\n"
     ]
    }
   ],
   "source": [
    "book_name1 = input('Enter the book title:  ')"
   ]
  },
  {
   "cell_type": "code",
   "execution_count": 18,
   "id": "41801d1e",
   "metadata": {},
   "outputs": [
    {
     "data": {
      "text/plain": [
       "225                              Dark Places\n",
       "243                            Sharp Objects\n",
       "2168                             The Grownup\n",
       "9758     Another Bullshit Night in Suck City\n",
       "2058      American Assassin (Mitch Rapp, #1)\n",
       "2514         Act of Treason (Mitch Rapp, #9)\n",
       "2621           Memorial Day (Mitch Rapp, #7)\n",
       "2829        Consent to Kill (Mitch Rapp, #8)\n",
       "2834    Separation of Power (Mitch Rapp, #5)\n",
       "2919      Transfer of Power (Mitch Rapp, #3)\n",
       "Name: title, dtype: object"
      ]
     },
     "execution_count": 18,
     "metadata": {},
     "output_type": "execute_result"
    }
   ],
   "source": [
    "tags_recommendations(book_name1).head(10)"
   ]
  },
  {
   "cell_type": "markdown",
   "id": "01d32386",
   "metadata": {},
   "source": [
    "## Recommendation of books using combination of attributes(author and tags) for better results.\n"
   ]
  },
  {
   "cell_type": "code",
   "execution_count": 19,
   "id": "1ab3535e",
   "metadata": {},
   "outputs": [
    {
     "data": {
      "text/html": [
       "<div>\n",
       "<style scoped>\n",
       "    .dataframe tbody tr th:only-of-type {\n",
       "        vertical-align: middle;\n",
       "    }\n",
       "\n",
       "    .dataframe tbody tr th {\n",
       "        vertical-align: top;\n",
       "    }\n",
       "\n",
       "    .dataframe thead th {\n",
       "        text-align: right;\n",
       "    }\n",
       "</style>\n",
       "<table border=\"1\" class=\"dataframe\">\n",
       "  <thead>\n",
       "    <tr style=\"text-align: right;\">\n",
       "      <th></th>\n",
       "      <th>book_id</th>\n",
       "      <th>tag_name</th>\n",
       "    </tr>\n",
       "  </thead>\n",
       "  <tbody>\n",
       "    <tr>\n",
       "      <th>0</th>\n",
       "      <td>1</td>\n",
       "      <td>to-read fantasy favorites currently-reading yo...</td>\n",
       "    </tr>\n",
       "    <tr>\n",
       "      <th>1</th>\n",
       "      <td>2</td>\n",
       "      <td>to-read fantasy favorites currently-reading yo...</td>\n",
       "    </tr>\n",
       "    <tr>\n",
       "      <th>2</th>\n",
       "      <td>3</td>\n",
       "      <td>to-read fantasy favorites currently-reading yo...</td>\n",
       "    </tr>\n",
       "    <tr>\n",
       "      <th>3</th>\n",
       "      <td>5</td>\n",
       "      <td>to-read fantasy favorites currently-reading yo...</td>\n",
       "    </tr>\n",
       "    <tr>\n",
       "      <th>4</th>\n",
       "      <td>6</td>\n",
       "      <td>to-read fantasy young-adult fiction harry-pott...</td>\n",
       "    </tr>\n",
       "  </tbody>\n",
       "</table>\n",
       "</div>"
      ],
      "text/plain": [
       "   book_id                                           tag_name\n",
       "0        1  to-read fantasy favorites currently-reading yo...\n",
       "1        2  to-read fantasy favorites currently-reading yo...\n",
       "2        3  to-read fantasy favorites currently-reading yo...\n",
       "3        5  to-read fantasy favorites currently-reading yo...\n",
       "4        6  to-read fantasy young-adult fiction harry-pott..."
      ]
     },
     "execution_count": 19,
     "metadata": {},
     "output_type": "execute_result"
    }
   ],
   "source": [
    "temp_df = books_merge_tags.groupby('book_id')['tag_name'].apply(' '.join).reset_index()\n",
    "temp_df.head()"
   ]
  },
  {
   "cell_type": "code",
   "execution_count": 20,
   "id": "1cb6d549",
   "metadata": {},
   "outputs": [
    {
     "data": {
      "text/html": [
       "<div>\n",
       "<style scoped>\n",
       "    .dataframe tbody tr th:only-of-type {\n",
       "        vertical-align: middle;\n",
       "    }\n",
       "\n",
       "    .dataframe tbody tr th {\n",
       "        vertical-align: top;\n",
       "    }\n",
       "\n",
       "    .dataframe thead th {\n",
       "        text-align: right;\n",
       "    }\n",
       "</style>\n",
       "<table border=\"1\" class=\"dataframe\">\n",
       "  <thead>\n",
       "    <tr style=\"text-align: right;\">\n",
       "      <th></th>\n",
       "      <th>book_id</th>\n",
       "      <th>title</th>\n",
       "      <th>authors</th>\n",
       "      <th>tag_name</th>\n",
       "    </tr>\n",
       "  </thead>\n",
       "  <tbody>\n",
       "    <tr>\n",
       "      <th>0</th>\n",
       "      <td>2767052</td>\n",
       "      <td>The Hunger Games (The Hunger Games, #1)</td>\n",
       "      <td>Suzanne Collins</td>\n",
       "      <td>to-read fantasy favorites currently-reading yo...</td>\n",
       "    </tr>\n",
       "    <tr>\n",
       "      <th>1</th>\n",
       "      <td>3</td>\n",
       "      <td>Harry Potter and the Sorcerer's Stone (Harry P...</td>\n",
       "      <td>J.K. Rowling, Mary GrandPré</td>\n",
       "      <td>to-read fantasy favorites currently-reading yo...</td>\n",
       "    </tr>\n",
       "    <tr>\n",
       "      <th>2</th>\n",
       "      <td>41865</td>\n",
       "      <td>Twilight (Twilight, #1)</td>\n",
       "      <td>Stephenie Meyer</td>\n",
       "      <td>to-read fantasy favorites currently-reading yo...</td>\n",
       "    </tr>\n",
       "    <tr>\n",
       "      <th>3</th>\n",
       "      <td>2657</td>\n",
       "      <td>To Kill a Mockingbird</td>\n",
       "      <td>Harper Lee</td>\n",
       "      <td>to-read favorites currently-reading young-adul...</td>\n",
       "    </tr>\n",
       "    <tr>\n",
       "      <th>4</th>\n",
       "      <td>4671</td>\n",
       "      <td>The Great Gatsby</td>\n",
       "      <td>F. Scott Fitzgerald</td>\n",
       "      <td>to-read favorites currently-reading young-adul...</td>\n",
       "    </tr>\n",
       "  </tbody>\n",
       "</table>\n",
       "</div>"
      ],
      "text/plain": [
       "   book_id                                              title  \\\n",
       "0  2767052            The Hunger Games (The Hunger Games, #1)   \n",
       "1        3  Harry Potter and the Sorcerer's Stone (Harry P...   \n",
       "2    41865                            Twilight (Twilight, #1)   \n",
       "3     2657                              To Kill a Mockingbird   \n",
       "4     4671                                   The Great Gatsby   \n",
       "\n",
       "                       authors  \\\n",
       "0              Suzanne Collins   \n",
       "1  J.K. Rowling, Mary GrandPré   \n",
       "2              Stephenie Meyer   \n",
       "3                   Harper Lee   \n",
       "4          F. Scott Fitzgerald   \n",
       "\n",
       "                                            tag_name  \n",
       "0  to-read fantasy favorites currently-reading yo...  \n",
       "1  to-read fantasy favorites currently-reading yo...  \n",
       "2  to-read fantasy favorites currently-reading yo...  \n",
       "3  to-read favorites currently-reading young-adul...  \n",
       "4  to-read favorites currently-reading young-adul...  "
      ]
     },
     "execution_count": 20,
     "metadata": {},
     "output_type": "execute_result"
    }
   ],
   "source": [
    "books_authors = pd.merge(books_authors, temp_df, left_on='book_id', right_on='book_id', how='inner')\n",
    "books_authors.head()"
   ]
  },
  {
   "cell_type": "code",
   "execution_count": 21,
   "id": "3c1ff051",
   "metadata": {},
   "outputs": [],
   "source": [
    "books_authors['collection'] = (pd.Series(books_authors[['authors', 'tag_name']]\n",
    "                      .fillna('')\n",
    "                      .values.tolist()\n",
    "                      ).str.join(' '))"
   ]
  },
  {
   "cell_type": "code",
   "execution_count": 22,
   "id": "1eaacfea",
   "metadata": {},
   "outputs": [],
   "source": [
    "tf_coll = TfidfVectorizer(analyzer='word',ngram_range=(1, 2),min_df=0, stop_words='english')\n",
    "tfidf_matrix_coll = tf_coll.fit_transform(books_authors['collection'])\n",
    "cosine_sim_coll = linear_kernel(tfidf_matrix_coll, tfidf_matrix_coll)\n",
    "\n",
    "# Build a 1-dimensional array with book titles\n",
    "titles = books_authors['title']\n",
    "indices = pd.Series(books_authors.index, index=books_authors['title'])\n",
    "\n",
    "# Get book recommendations based on the cosine similarity score of books tags\n",
    "def collection_recommendations(title):\n",
    "    idx = indices[title]\n",
    "    sim_scores = list(enumerate(cosine_sim_coll[idx]))\n",
    "    sim_scores = sorted(sim_scores, key=lambda x: x[1], reverse=True)\n",
    "    sim_scores = sim_scores[1:11]\n",
    "    book_indices = [i[0] for i in sim_scores]\n",
    "    return titles.iloc[book_indices]"
   ]
  },
  {
   "cell_type": "code",
   "execution_count": 23,
   "id": "cecfffcf",
   "metadata": {},
   "outputs": [
    {
     "name": "stdout",
     "output_type": "stream",
     "text": [
      "Enter the book title: Gone Girl\n"
     ]
    }
   ],
   "source": [
    "book_title = input('Enter the book title: ')"
   ]
  },
  {
   "cell_type": "code",
   "execution_count": 24,
   "id": "98c9d955",
   "metadata": {},
   "outputs": [
    {
     "data": {
      "text/plain": [
       "243              Sharp Objects\n",
       "225                Dark Places\n",
       "2168               The Grownup\n",
       "2616    The Kind Worth Killing\n",
       "3311               Pretty Baby\n",
       "1344              Pretty Girls\n",
       "810              The Good Girl\n",
       "7870               Second Life\n",
       "60       The Girl on the Train\n",
       "444       Before I Go to Sleep\n",
       "Name: title, dtype: object"
      ]
     },
     "execution_count": 24,
     "metadata": {},
     "output_type": "execute_result"
    }
   ],
   "source": [
    "collection_recommendations(book_title).head(10)"
   ]
  },
  {
   "cell_type": "markdown",
   "id": "f85c8c55",
   "metadata": {},
   "source": [
    "## Use CountVectorizer to perform recommendation based on authors"
   ]
  },
  {
   "cell_type": "code",
   "execution_count": 25,
   "id": "8db70486",
   "metadata": {},
   "outputs": [
    {
     "data": {
      "text/html": [
       "<div>\n",
       "<style scoped>\n",
       "    .dataframe tbody tr th:only-of-type {\n",
       "        vertical-align: middle;\n",
       "    }\n",
       "\n",
       "    .dataframe tbody tr th {\n",
       "        vertical-align: top;\n",
       "    }\n",
       "\n",
       "    .dataframe thead th {\n",
       "        text-align: right;\n",
       "    }\n",
       "</style>\n",
       "<table border=\"1\" class=\"dataframe\">\n",
       "  <thead>\n",
       "    <tr style=\"text-align: right;\">\n",
       "      <th></th>\n",
       "      <th>book_id</th>\n",
       "      <th>title</th>\n",
       "      <th>authors</th>\n",
       "    </tr>\n",
       "  </thead>\n",
       "  <tbody>\n",
       "    <tr>\n",
       "      <th>0</th>\n",
       "      <td>2767052</td>\n",
       "      <td>The Hunger Games (The Hunger Games, #1)</td>\n",
       "      <td>Suzanne Collins</td>\n",
       "    </tr>\n",
       "    <tr>\n",
       "      <th>1</th>\n",
       "      <td>3</td>\n",
       "      <td>Harry Potter and the Sorcerer's Stone (Harry P...</td>\n",
       "      <td>J.K. Rowling, Mary GrandPré</td>\n",
       "    </tr>\n",
       "    <tr>\n",
       "      <th>2</th>\n",
       "      <td>41865</td>\n",
       "      <td>Twilight (Twilight, #1)</td>\n",
       "      <td>Stephenie Meyer</td>\n",
       "    </tr>\n",
       "    <tr>\n",
       "      <th>3</th>\n",
       "      <td>2657</td>\n",
       "      <td>To Kill a Mockingbird</td>\n",
       "      <td>Harper Lee</td>\n",
       "    </tr>\n",
       "    <tr>\n",
       "      <th>4</th>\n",
       "      <td>4671</td>\n",
       "      <td>The Great Gatsby</td>\n",
       "      <td>F. Scott Fitzgerald</td>\n",
       "    </tr>\n",
       "  </tbody>\n",
       "</table>\n",
       "</div>"
      ],
      "text/plain": [
       "   book_id                                              title  \\\n",
       "0  2767052            The Hunger Games (The Hunger Games, #1)   \n",
       "1        3  Harry Potter and the Sorcerer's Stone (Harry P...   \n",
       "2    41865                            Twilight (Twilight, #1)   \n",
       "3     2657                              To Kill a Mockingbird   \n",
       "4     4671                                   The Great Gatsby   \n",
       "\n",
       "                       authors  \n",
       "0              Suzanne Collins  \n",
       "1  J.K. Rowling, Mary GrandPré  \n",
       "2              Stephenie Meyer  \n",
       "3                   Harper Lee  \n",
       "4          F. Scott Fitzgerald  "
      ]
     },
     "execution_count": 25,
     "metadata": {},
     "output_type": "execute_result"
    }
   ],
   "source": [
    "book_authors = books[['book_id', 'title','authors']]\n",
    "book_authors.head()"
   ]
  },
  {
   "cell_type": "code",
   "execution_count": 26,
   "id": "3b6abda2",
   "metadata": {},
   "outputs": [
    {
     "name": "stdout",
     "output_type": "stream",
     "text": [
      "Enter the book title: Gone Girl\n"
     ]
    }
   ],
   "source": [
    "book_titles = input('Enter the book title: ')"
   ]
  },
  {
   "cell_type": "code",
   "execution_count": 27,
   "id": "8f015ef2",
   "metadata": {},
   "outputs": [],
   "source": [
    "# Initialize vectorizer\n",
    "# Min_df = rare words, max_df = most used words\n",
    "vect1 = CountVectorizer(analyzer = 'word', ngram_range = (1,2), stop_words = 'english', min_df = 0.002)"
   ]
  },
  {
   "cell_type": "code",
   "execution_count": 28,
   "id": "8814d386",
   "metadata": {},
   "outputs": [],
   "source": [
    "# Fit into the authors\n",
    "vect1.fit(book_authors['authors'])\n",
    "title_matrix = vect1.transform(book_authors['authors'])"
   ]
  },
  {
   "cell_type": "code",
   "execution_count": 29,
   "id": "078db854",
   "metadata": {},
   "outputs": [
    {
     "data": {
      "text/plain": [
       "array(['abbi', 'abbi glines', 'agatha', 'agatha christie', 'alan', 'alex',\n",
       "       'alexander', 'alice', 'amy', 'anderson', 'andrew', 'andrews',\n",
       "       'anita', 'ann', 'anna', 'anne', 'anne rice', 'anthony', 'archer',\n",
       "       'armentrout', 'armstrong', 'arthur', 'ashley', 'asimov',\n",
       "       'baldacci', 'banks', 'barbara', 'ben', 'bernard', 'blake',\n",
       "       'brandon', 'brandon sanderson', 'brett', 'brian', 'brian vaughan',\n",
       "       'briggs', 'brooks', 'brown', 'bryan', 'butcher', 'cabot', 'card',\n",
       "       'carl', 'charlaine', 'charlaine harris', 'charles', 'charlie',\n",
       "       'child', 'chris', 'christie', 'christopher', 'chuck', 'clare',\n",
       "       'clark', 'clarke', 'clive', 'coben', 'cole', 'colleen', 'connelly',\n",
       "       'cornwell', 'dan', 'daniel', 'dave', 'david', 'david baldacci',\n",
       "       'david eddings', 'dean', 'dean koontz', 'diana', 'don', 'donald',\n",
       "       'douglas', 'douglas preston', 'doyle', 'dr', 'dr seuss', 'eddings',\n",
       "       'edward', 'elizabeth', 'ellen', 'ellis', 'emily', 'eric', 'erin',\n",
       "       'ernest', 'evanovich', 'feist', 'flynn', 'frank', 'gabriel',\n",
       "       'gaiman', 'gardner', 'garth', 'gary', 'george', 'george martin',\n",
       "       'glines', 'grafton', 'grant', 'green', 'greg', 'gregory',\n",
       "       'grisham', 'hamilton', 'harlan', 'harlan coben', 'harris',\n",
       "       'harrison', 'haruki', 'haruki murakami', 'henry', 'higgins',\n",
       "       'higgins clark', 'hill', 'howard', 'hunter', 'ian', 'isaac',\n",
       "       'isaac asimov', 'jack', 'jacqueline', 'james', 'james patterson',\n",
       "       'jane', 'janet', 'janet evanovich', 'jay', 'jean', 'jeff',\n",
       "       'jeffrey', 'jeffrey archer', 'jennifer', 'jennifer armentrout',\n",
       "       'jenny', 'jerry', 'jessica', 'jim', 'jim butcher', 'jodi',\n",
       "       'jodi picoult', 'joe', 'john', 'john grisham', 'john sandford',\n",
       "       'johnson', 'jon', 'jonathan', 'jones', 'jordan', 'joseph', 'josé',\n",
       "       'jr', 'julia', 'julie', 'karen', 'kate', 'kay', 'ken', 'kenyon',\n",
       "       'kevin', 'kim', 'king', 'kirkman', 'koontz', 'kristen',\n",
       "       'kristen ashley', 'kristin', 'kurt', 'laura', 'laurell',\n",
       "       'laurell hamilton', 'lauren', 'laurie', 'lawrence', 'lee',\n",
       "       'lee child', 'lewis', 'lincoln', 'lincoln child', 'linda', 'lisa',\n",
       "       'louise', 'lynn', 'margaret', 'maria', 'marie', 'mark', 'martin',\n",
       "       'mary', 'mary higgins', 'matthew', 'mccaffrey', 'mead', 'meg',\n",
       "       'meg cabot', 'melissa', 'meyer', 'michael', 'michael connelly',\n",
       "       'mike', 'miller', 'moore', 'murakami', 'neil', 'neil gaiman',\n",
       "       'nelson', 'nicholas', 'nicholas sparks', 'nick', 'nora',\n",
       "       'nora roberts', 'oliver', 'orson', 'orson scott', 'patricia',\n",
       "       'patricia cornwell', 'patrick', 'patterson', 'paul', 'peter',\n",
       "       'philip', 'picoult', 'pierce', 'pratchett', 'preston',\n",
       "       'preston lincoln', 'quentin', 'rachel', 'raymond', 'raymond feist',\n",
       "       'rice', 'richard', 'richelle', 'richelle mead', 'rick',\n",
       "       'rick riordan', 'riordan', 'rob', 'robb', 'robert',\n",
       "       'robert kirkman', 'roberts', 'robin', 'roth', 'rowling', 'russell',\n",
       "       'ryan', 'salvatore', 'sanderson', 'sandford', 'sandra', 'sara',\n",
       "       'sarah', 'scott', 'scott card', 'seuss', 'shakespeare', 'shannon',\n",
       "       'sheldon', 'shepard', 'sherrilyn', 'sherrilyn kenyon', 'sidney',\n",
       "       'simon', 'singh', 'smith', 'sophie', 'sparks', 'stephen',\n",
       "       'stephen king', 'steve', 'steven', 'sue', 'sue grafton', 'susan',\n",
       "       'tamora', 'tamora pierce', 'terry', 'terry brooks',\n",
       "       'terry pratchett', 'thomas', 'thompson', 'tim', 'tom', 'tony',\n",
       "       'tracy', 'vaughan', 'walter', 'ward', 'william',\n",
       "       'william shakespeare', 'williams', 'wilson'], dtype=object)"
      ]
     },
     "execution_count": 29,
     "metadata": {},
     "output_type": "execute_result"
    }
   ],
   "source": [
    "#features= vect1.get_feature_names() ver problem\n",
    "features = vect1.get_feature_names_out()\n",
    "features"
   ]
  },
  {
   "cell_type": "code",
   "execution_count": 30,
   "id": "2c4361ce",
   "metadata": {},
   "outputs": [
    {
     "data": {
      "text/plain": [
       "array([[0., 0., 0., ..., 0., 0., 0.],\n",
       "       [0., 1., 0., ..., 0., 0., 0.],\n",
       "       [0., 0., 1., ..., 0., 0., 0.],\n",
       "       ...,\n",
       "       [0., 0., 0., ..., 1., 0., 0.],\n",
       "       [0., 0., 0., ..., 0., 0., 0.],\n",
       "       [0., 0., 0., ..., 0., 0., 1.]])"
      ]
     },
     "execution_count": 30,
     "metadata": {},
     "output_type": "execute_result"
    }
   ],
   "source": [
    "cosine_sim_titles = cosine_similarity(title_matrix, title_matrix)\n",
    "cosine_sim_titles"
   ]
  },
  {
   "cell_type": "code",
   "execution_count": 31,
   "id": "737261e6",
   "metadata": {},
   "outputs": [],
   "source": [
    "indices1 = pd.Series(book_authors.index,index=book_authors['title'])\n",
    "title_id = indices1[book_titles]"
   ]
  },
  {
   "cell_type": "code",
   "execution_count": 32,
   "id": "dbad64cb",
   "metadata": {},
   "outputs": [],
   "source": [
    "# Find out what features have been considered  by the vectorizer for a given title \n",
    "# Squeeze activity matrix into array\n",
    "feature_array = np.squeeze(title_matrix[title_id].toarray())\n",
    "idx = np.where(feature_array > 0)"
   ]
  },
  {
   "cell_type": "code",
   "execution_count": 33,
   "id": "9a18b5f6",
   "metadata": {},
   "outputs": [],
   "source": [
    "# Cosine similarity with other similar titles and determine the total number of books to recommend\n",
    "n = 11 \n",
    "top_n_idx = np.flip(np.argsort(cosine_sim_titles[title_id,]), axis = 0)[0:n]\n",
    "top_n_sim_values = cosine_sim_titles[title_id, top_n_idx]"
   ]
  },
  {
   "cell_type": "code",
   "execution_count": 34,
   "id": "8ef4ef79",
   "metadata": {},
   "outputs": [],
   "source": [
    "# Find top n with values > 0\n",
    "top_n_idx = top_n_idx[top_n_sim_values > 0]\n",
    "scores = top_n_sim_values[top_n_sim_values > 0]"
   ]
  },
  {
   "cell_type": "code",
   "execution_count": 35,
   "id": "def6754b",
   "metadata": {},
   "outputs": [
    {
     "data": {
      "text/html": [
       "<div>\n",
       "<style scoped>\n",
       "    .dataframe tbody tr th:only-of-type {\n",
       "        vertical-align: middle;\n",
       "    }\n",
       "\n",
       "    .dataframe tbody tr th {\n",
       "        vertical-align: top;\n",
       "    }\n",
       "\n",
       "    .dataframe thead th {\n",
       "        text-align: right;\n",
       "    }\n",
       "</style>\n",
       "<table border=\"1\" class=\"dataframe\">\n",
       "  <thead>\n",
       "    <tr style=\"text-align: right;\">\n",
       "      <th></th>\n",
       "      <th>books</th>\n",
       "      <th>scores</th>\n",
       "    </tr>\n",
       "  </thead>\n",
       "  <tbody>\n",
       "    <tr>\n",
       "      <th>0</th>\n",
       "      <td>Pursuit of Honor (Mitch Rapp, #12)</td>\n",
       "      <td>1.0</td>\n",
       "    </tr>\n",
       "    <tr>\n",
       "      <th>1</th>\n",
       "      <td>Act of Treason (Mitch Rapp, #9)</td>\n",
       "      <td>1.0</td>\n",
       "    </tr>\n",
       "    <tr>\n",
       "      <th>2</th>\n",
       "      <td>Gone Girl</td>\n",
       "      <td>1.0</td>\n",
       "    </tr>\n",
       "    <tr>\n",
       "      <th>3</th>\n",
       "      <td>The Survivor (Mitch Rapp, #14)</td>\n",
       "      <td>1.0</td>\n",
       "    </tr>\n",
       "    <tr>\n",
       "      <th>4</th>\n",
       "      <td>Extreme Measures (Mitch Rapp, #11)</td>\n",
       "      <td>1.0</td>\n",
       "    </tr>\n",
       "    <tr>\n",
       "      <th>5</th>\n",
       "      <td>American Assassin (Mitch Rapp, #1)</td>\n",
       "      <td>1.0</td>\n",
       "    </tr>\n",
       "    <tr>\n",
       "      <th>6</th>\n",
       "      <td>Transfer of Power (Mitch Rapp, #3)</td>\n",
       "      <td>1.0</td>\n",
       "    </tr>\n",
       "    <tr>\n",
       "      <th>7</th>\n",
       "      <td>Dark Places</td>\n",
       "      <td>1.0</td>\n",
       "    </tr>\n",
       "    <tr>\n",
       "      <th>8</th>\n",
       "      <td>Protect and Defend (Mitch Rapp, #10)</td>\n",
       "      <td>1.0</td>\n",
       "    </tr>\n",
       "    <tr>\n",
       "      <th>9</th>\n",
       "      <td>Executive Power (Mitch Rapp, #6)</td>\n",
       "      <td>1.0</td>\n",
       "    </tr>\n",
       "    <tr>\n",
       "      <th>10</th>\n",
       "      <td>Separation of Power (Mitch Rapp, #5)</td>\n",
       "      <td>1.0</td>\n",
       "    </tr>\n",
       "  </tbody>\n",
       "</table>\n",
       "</div>"
      ],
      "text/plain": [
       "                                   books  scores\n",
       "0     Pursuit of Honor (Mitch Rapp, #12)     1.0\n",
       "1        Act of Treason (Mitch Rapp, #9)     1.0\n",
       "2                              Gone Girl     1.0\n",
       "3         The Survivor (Mitch Rapp, #14)     1.0\n",
       "4     Extreme Measures (Mitch Rapp, #11)     1.0\n",
       "5     American Assassin (Mitch Rapp, #1)     1.0\n",
       "6     Transfer of Power (Mitch Rapp, #3)     1.0\n",
       "7                            Dark Places     1.0\n",
       "8   Protect and Defend (Mitch Rapp, #10)     1.0\n",
       "9       Executive Power (Mitch Rapp, #6)     1.0\n",
       "10  Separation of Power (Mitch Rapp, #5)     1.0"
      ]
     },
     "execution_count": 35,
     "metadata": {},
     "output_type": "execute_result"
    }
   ],
   "source": [
    "book_authors['title'].iloc[title_id]\n",
    "pd.DataFrame({\"books\": book_authors['title'].iloc[top_n_idx].values,\n",
    "           \"scores\":scores}, columns = [\"books\",\"scores\"])"
   ]
  },
  {
   "cell_type": "markdown",
   "id": "b55d918e",
   "metadata": {},
   "source": [
    "## Count vector for tag and author recommendation"
   ]
  },
  {
   "cell_type": "code",
   "execution_count": 36,
   "id": "c6e012da",
   "metadata": {},
   "outputs": [
    {
     "name": "stdout",
     "output_type": "stream",
     "text": [
      "Enter the book title: Gone Girl\n"
     ]
    }
   ],
   "source": [
    "book_nama = input('Enter the book title: ')"
   ]
  },
  {
   "cell_type": "code",
   "execution_count": 37,
   "id": "baba80bf",
   "metadata": {},
   "outputs": [],
   "source": [
    "vect1 = CountVectorizer(analyzer = 'word', ngram_range = (1,2), stop_words = 'english', min_df = 0.002)"
   ]
  },
  {
   "cell_type": "code",
   "execution_count": 38,
   "id": "93fb639a",
   "metadata": {},
   "outputs": [],
   "source": [
    "vect1.fit(books_authors['collection'])\n",
    "title_matrix = vect1.transform(books_authors['collection'])"
   ]
  },
  {
   "cell_type": "code",
   "execution_count": 39,
   "id": "045260e5",
   "metadata": {},
   "outputs": [
    {
     "data": {
      "text/plain": [
       "array(['abbi', 'abbi glines', 'agatha', 'agatha christie', 'alan', 'alex',\n",
       "       'alexander', 'alice', 'amy', 'anderson', 'andrew', 'andrews',\n",
       "       'anita', 'ann', 'anna', 'anne', 'anne rice', 'anthony', 'archer',\n",
       "       'armentrout', 'armstrong', 'arthur', 'ashley', 'asimov',\n",
       "       'baldacci', 'banks', 'barbara', 'ben', 'bernard', 'blake',\n",
       "       'brandon', 'brandon sanderson', 'brett', 'brian', 'brian vaughan',\n",
       "       'briggs', 'brooks', 'brown', 'bryan', 'butcher', 'cabot', 'card',\n",
       "       'carl', 'charlaine', 'charlaine harris', 'charles', 'charlie',\n",
       "       'child', 'chris', 'christie', 'christopher', 'chuck', 'clare',\n",
       "       'clark', 'clarke', 'clive', 'coben', 'cole', 'colleen', 'connelly',\n",
       "       'cornwell', 'dan', 'daniel', 'dave', 'david', 'david baldacci',\n",
       "       'david eddings', 'dean', 'dean koontz', 'diana', 'don', 'donald',\n",
       "       'douglas', 'douglas preston', 'doyle', 'dr', 'dr seuss', 'eddings',\n",
       "       'edward', 'elizabeth', 'ellen', 'ellis', 'emily', 'eric', 'erin',\n",
       "       'ernest', 'evanovich', 'feist', 'flynn', 'frank', 'gabriel',\n",
       "       'gaiman', 'gardner', 'garth', 'gary', 'george', 'george martin',\n",
       "       'glines', 'grafton', 'grant', 'green', 'greg', 'gregory',\n",
       "       'grisham', 'hamilton', 'harlan', 'harlan coben', 'harris',\n",
       "       'harrison', 'haruki', 'haruki murakami', 'henry', 'higgins',\n",
       "       'higgins clark', 'hill', 'howard', 'hunter', 'ian', 'isaac',\n",
       "       'isaac asimov', 'jack', 'jacqueline', 'james', 'james patterson',\n",
       "       'jane', 'janet', 'janet evanovich', 'jay', 'jean', 'jeff',\n",
       "       'jeffrey', 'jeffrey archer', 'jennifer', 'jennifer armentrout',\n",
       "       'jenny', 'jerry', 'jessica', 'jim', 'jim butcher', 'jodi',\n",
       "       'jodi picoult', 'joe', 'john', 'john grisham', 'john sandford',\n",
       "       'johnson', 'jon', 'jonathan', 'jones', 'jordan', 'joseph', 'josé',\n",
       "       'jr', 'julia', 'julie', 'karen', 'kate', 'kay', 'ken', 'kenyon',\n",
       "       'kevin', 'kim', 'king', 'kirkman', 'koontz', 'kristen',\n",
       "       'kristen ashley', 'kristin', 'kurt', 'laura', 'laurell',\n",
       "       'laurell hamilton', 'lauren', 'laurie', 'lawrence', 'lee',\n",
       "       'lee child', 'lewis', 'lincoln', 'lincoln child', 'linda', 'lisa',\n",
       "       'louise', 'lynn', 'margaret', 'maria', 'marie', 'mark', 'martin',\n",
       "       'mary', 'mary higgins', 'matthew', 'mccaffrey', 'mead', 'meg',\n",
       "       'meg cabot', 'melissa', 'meyer', 'michael', 'michael connelly',\n",
       "       'mike', 'miller', 'moore', 'murakami', 'neil', 'neil gaiman',\n",
       "       'nelson', 'nicholas', 'nicholas sparks', 'nick', 'nora',\n",
       "       'nora roberts', 'oliver', 'orson', 'orson scott', 'patricia',\n",
       "       'patricia cornwell', 'patrick', 'patterson', 'paul', 'peter',\n",
       "       'philip', 'picoult', 'pierce', 'pratchett', 'preston',\n",
       "       'preston lincoln', 'quentin', 'rachel', 'raymond', 'raymond feist',\n",
       "       'rice', 'richard', 'richelle', 'richelle mead', 'rick',\n",
       "       'rick riordan', 'riordan', 'rob', 'robb', 'robert',\n",
       "       'robert kirkman', 'roberts', 'robin', 'roth', 'rowling', 'russell',\n",
       "       'ryan', 'salvatore', 'sanderson', 'sandford', 'sandra', 'sara',\n",
       "       'sarah', 'scott', 'scott card', 'seuss', 'shakespeare', 'shannon',\n",
       "       'sheldon', 'shepard', 'sherrilyn', 'sherrilyn kenyon', 'sidney',\n",
       "       'simon', 'singh', 'smith', 'sophie', 'sparks', 'stephen',\n",
       "       'stephen king', 'steve', 'steven', 'sue', 'sue grafton', 'susan',\n",
       "       'tamora', 'tamora pierce', 'terry', 'terry brooks',\n",
       "       'terry pratchett', 'thomas', 'thompson', 'tim', 'tom', 'tony',\n",
       "       'tracy', 'vaughan', 'walter', 'ward', 'william',\n",
       "       'william shakespeare', 'williams', 'wilson'], dtype=object)"
      ]
     },
     "execution_count": 39,
     "metadata": {},
     "output_type": "execute_result"
    }
   ],
   "source": [
    "#features1= vect1.get_feature_names() ver problem\n",
    "features1 = vect1.get_feature_names_out()\n",
    "features"
   ]
  },
  {
   "cell_type": "code",
   "execution_count": 40,
   "id": "6b4fd9cd",
   "metadata": {},
   "outputs": [],
   "source": [
    "cosine_sim_titles1 = cosine_similarity(title_matrix, title_matrix)"
   ]
  },
  {
   "cell_type": "code",
   "execution_count": 41,
   "id": "0085f191",
   "metadata": {},
   "outputs": [],
   "source": [
    "indices2 = pd.Series(books_authors.index,index=books_authors['title'])\n",
    "title_id1 = indices2[book_nama]"
   ]
  },
  {
   "cell_type": "code",
   "execution_count": 42,
   "id": "6578ece5",
   "metadata": {},
   "outputs": [],
   "source": [
    "feature_array = np.squeeze(title_matrix[title_id1].toarray()) #squeeze activity matrix into array\n",
    "idx = np.where(feature_array > 0)"
   ]
  },
  {
   "cell_type": "code",
   "execution_count": 43,
   "id": "2f36ab4d",
   "metadata": {},
   "outputs": [],
   "source": [
    "# Number of books to show\n",
    "n = 11\n",
    "top_n_idx1 = np.flip(np.argsort(cosine_sim_titles1[title_id1,]), axis = 0)[0:n]\n",
    "top_n_sim_values1 = cosine_sim_titles1[title_id1, top_n_idx1]"
   ]
  },
  {
   "cell_type": "code",
   "execution_count": 44,
   "id": "658d42a8",
   "metadata": {},
   "outputs": [],
   "source": [
    "# Find top n with values > 0\n",
    "top_n_idx1 = top_n_idx1[top_n_sim_values1 > 0]\n",
    "scores1 = top_n_sim_values1[top_n_sim_values1 > 0]"
   ]
  },
  {
   "cell_type": "code",
   "execution_count": 45,
   "id": "2c96188f",
   "metadata": {},
   "outputs": [
    {
     "data": {
      "text/html": [
       "<div>\n",
       "<style scoped>\n",
       "    .dataframe tbody tr th:only-of-type {\n",
       "        vertical-align: middle;\n",
       "    }\n",
       "\n",
       "    .dataframe tbody tr th {\n",
       "        vertical-align: top;\n",
       "    }\n",
       "\n",
       "    .dataframe thead th {\n",
       "        text-align: right;\n",
       "    }\n",
       "</style>\n",
       "<table border=\"1\" class=\"dataframe\">\n",
       "  <thead>\n",
       "    <tr style=\"text-align: right;\">\n",
       "      <th></th>\n",
       "      <th>books</th>\n",
       "      <th>scores</th>\n",
       "    </tr>\n",
       "  </thead>\n",
       "  <tbody>\n",
       "    <tr>\n",
       "      <th>0</th>\n",
       "      <td>Gone Girl</td>\n",
       "      <td>1.000000</td>\n",
       "    </tr>\n",
       "    <tr>\n",
       "      <th>1</th>\n",
       "      <td>Where They Found Her</td>\n",
       "      <td>0.800593</td>\n",
       "    </tr>\n",
       "    <tr>\n",
       "      <th>2</th>\n",
       "      <td>Pretty Baby</td>\n",
       "      <td>0.799111</td>\n",
       "    </tr>\n",
       "    <tr>\n",
       "      <th>3</th>\n",
       "      <td>Sharp Objects</td>\n",
       "      <td>0.795383</td>\n",
       "    </tr>\n",
       "    <tr>\n",
       "      <th>4</th>\n",
       "      <td>The Good Girl</td>\n",
       "      <td>0.794806</td>\n",
       "    </tr>\n",
       "    <tr>\n",
       "      <th>5</th>\n",
       "      <td>Disclaimer</td>\n",
       "      <td>0.794438</td>\n",
       "    </tr>\n",
       "    <tr>\n",
       "      <th>6</th>\n",
       "      <td>The Girl on the Train</td>\n",
       "      <td>0.792013</td>\n",
       "    </tr>\n",
       "    <tr>\n",
       "      <th>7</th>\n",
       "      <td>Dark Places</td>\n",
       "      <td>0.790939</td>\n",
       "    </tr>\n",
       "    <tr>\n",
       "      <th>8</th>\n",
       "      <td>Every Fifteen Minutes</td>\n",
       "      <td>0.790613</td>\n",
       "    </tr>\n",
       "    <tr>\n",
       "      <th>9</th>\n",
       "      <td>Descent</td>\n",
       "      <td>0.787350</td>\n",
       "    </tr>\n",
       "    <tr>\n",
       "      <th>10</th>\n",
       "      <td>Those Girls</td>\n",
       "      <td>0.787056</td>\n",
       "    </tr>\n",
       "  </tbody>\n",
       "</table>\n",
       "</div>"
      ],
      "text/plain": [
       "                    books    scores\n",
       "0               Gone Girl  1.000000\n",
       "1    Where They Found Her  0.800593\n",
       "2             Pretty Baby  0.799111\n",
       "3           Sharp Objects  0.795383\n",
       "4           The Good Girl  0.794806\n",
       "5              Disclaimer  0.794438\n",
       "6   The Girl on the Train  0.792013\n",
       "7             Dark Places  0.790939\n",
       "8   Every Fifteen Minutes  0.790613\n",
       "9                 Descent  0.787350\n",
       "10            Those Girls  0.787056"
      ]
     },
     "execution_count": 45,
     "metadata": {},
     "output_type": "execute_result"
    }
   ],
   "source": [
    "books_authors['title'].iloc[title_id1]\n",
    "pd.DataFrame({\"books\": books_authors['title'].iloc[top_n_idx1].values,\n",
    "           \"scores\":scores1}, columns = [\"books\",\"scores\"])"
   ]
  },
  {
   "cell_type": "code",
   "execution_count": null,
   "id": "15d12b44",
   "metadata": {},
   "outputs": [],
   "source": []
  }
 ],
 "metadata": {
  "kernelspec": {
   "display_name": "Python 3 (ipykernel)",
   "language": "python",
   "name": "python3"
  },
  "language_info": {
   "codemirror_mode": {
    "name": "ipython",
    "version": 3
   },
   "file_extension": ".py",
   "mimetype": "text/x-python",
   "name": "python",
   "nbconvert_exporter": "python",
   "pygments_lexer": "ipython3",
   "version": "3.10.9"
  }
 },
 "nbformat": 4,
 "nbformat_minor": 5
}
